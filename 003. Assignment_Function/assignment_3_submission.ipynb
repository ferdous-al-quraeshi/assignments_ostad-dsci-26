{
 "cells": [
  {
   "attachments": {},
   "cell_type": "markdown",
   "metadata": {},
   "source": [
    "# Problem Statement:\n",
    "\n",
    "Write a program to ascending sort the elements from the following list. (Create a function to solve it)\n",
    "\n",
    "\n",
    "List = [1, 5, 2, 9, 3, 22, 13]"
   ]
  },
  {
   "attachments": {},
   "cell_type": "markdown",
   "metadata": {},
   "source": [
    "---"
   ]
  },
  {
   "attachments": {},
   "cell_type": "markdown",
   "metadata": {},
   "source": [
    "### Not mutating the original List"
   ]
  },
  {
   "cell_type": "code",
   "execution_count": 29,
   "metadata": {},
   "outputs": [
    {
     "name": "stdout",
     "output_type": "stream",
     "text": [
      "[1, 2, 3, 5, 9, 13, 22]\n",
      "[1, 5, 2, 9, 3, 22, 13]\n"
     ]
    }
   ],
   "source": [
    "List = [1,5,2,9,3,22,13]\n",
    "\n",
    "# function definition for ascending sort\n",
    "def ascendingSort(list):\n",
    "    sortedList = sorted(list)\n",
    "    return sortedList\n",
    "\n",
    "print(ascendingSort(List))\n",
    "print(List)\n"
   ]
  },
  {
   "attachments": {},
   "cell_type": "markdown",
   "metadata": {},
   "source": [
    "### Mutating the original List"
   ]
  },
  {
   "cell_type": "code",
   "execution_count": 28,
   "metadata": {},
   "outputs": [
    {
     "name": "stdout",
     "output_type": "stream",
     "text": [
      "[1, 2, 3, 5, 9, 13, 22]\n",
      "[1, 2, 3, 5, 9, 13, 22]\n"
     ]
    }
   ],
   "source": [
    "List = [1,5,2,9,3,22,13]\n",
    "\n",
    "# function definition for ascending sort\n",
    "def ascendingSort(list):\n",
    "    list.sort()\n",
    "    return list\n",
    "\n",
    "print(ascendingSort(List))\n",
    "print(List)\n"
   ]
  }
 ],
 "metadata": {
  "kernelspec": {
   "display_name": "Python 3",
   "language": "python",
   "name": "python3"
  },
  "language_info": {
   "codemirror_mode": {
    "name": "ipython",
    "version": 3
   },
   "file_extension": ".py",
   "mimetype": "text/x-python",
   "name": "python",
   "nbconvert_exporter": "python",
   "pygments_lexer": "ipython3",
   "version": "3.10.11"
  },
  "orig_nbformat": 4
 },
 "nbformat": 4,
 "nbformat_minor": 2
}
